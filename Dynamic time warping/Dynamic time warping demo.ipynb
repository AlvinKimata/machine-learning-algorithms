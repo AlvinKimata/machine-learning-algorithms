{
 "cells": [
  {
   "cell_type": "markdown",
   "id": "9b3da948-5eb8-41d6-b7d6-51ff3cfe0031",
   "metadata": {},
   "source": [
    "### This notebook illustrates the intuition behind the `dynamic time warping` algorithm and its usage.\n",
    "\n",
    "![dtw algorithm](inputs/dtw.png)"
   ]
  },
  {
   "cell_type": "markdown",
   "id": "39aab5d8-9f08-4f6b-8428-c620d923b2f5",
   "metadata": {},
   "source": [
    "***\n",
    "\n",
    "### The objective of time series comparison methods is to produce a distance metric between two input time series. The _similarity_ or _dissimilarity_ of two-time series is typically calculated by converting the data into `vectors` and calculating the `Euclidean distance` between those points in vector space.\n",
    "\n",
    "\n",
    "### This algorithm is usually used in _time-series_ data or datasets that contains `temporal features` such as audio data.\n",
    "\n",
    "\n",
    "### It is used to compare two temporal sequences that do not match in length.\n"
   ]
  },
  {
   "cell_type": "code",
   "execution_count": 1,
   "id": "ffdcebe2-2a88-4ec3-8db6-a0c53bb6ab87",
   "metadata": {},
   "outputs": [],
   "source": [
    "import numpy as np"
   ]
  },
  {
   "cell_type": "code",
   "execution_count": 2,
   "id": "7c051474-cf25-4acc-8d0d-3114d6229c3c",
   "metadata": {},
   "outputs": [],
   "source": [
    "def dtw(x, y):\n",
    "    '''Function calculates the cost matrix of two time series using DTW formula.\n",
    "    \n",
    "    Params:\n",
    "        X (numpy array): The first time series.\n",
    "        y (numpy array): The second time series.\n",
    "        \n",
    "    Returns:\n",
    "        The cost matrix associated with the two time series.\n",
    "        \n",
    "    Example:\n",
    "        x = np.array([0, 2, 0, 1, 0, -1, 1])\n",
    "        y = np.array([0, 1, -1, 0, 2, -1, 0])\n",
    "        \n",
    "        dtw(x, y)\n",
    "        '''\n",
    "    \n",
    "    n, m = len(x), len(y)\n",
    "        \n",
    "    #Generate and initialize a cost matrix.\n",
    "    const_mat = np.zeros((n + 1, m + 1))\n",
    "    \n",
    "    for i in range(n + 1):\n",
    "        for j in range(m + 1):\n",
    "            if i == 0 and j == 0:\n",
    "                const_mat[i, j] = 0\n",
    "                \n",
    "            else:\n",
    "                const_mat[i, j] = np.inf\n",
    "                \n",
    "                \n",
    "    #Fill in the cost matrix.\n",
    "    for i in range(1, n + 1):\n",
    "        for j in range(1, m + 1):\n",
    "            c = abs(x[i - 1] - y[j - 1])\n",
    "            _min = min([const_mat[i - 1, j - 1], \n",
    "                       const_mat[i - 1, j],\n",
    "                       const_mat[i, j - 1]])\n",
    "            const_mat[i, j] = c + _min\n",
    "            \n",
    "    return const_mat"
   ]
  },
  {
   "cell_type": "code",
   "execution_count": 3,
   "id": "217cb406-9b6d-4bce-926a-1227190f5d50",
   "metadata": {},
   "outputs": [
    {
     "data": {
      "text/plain": [
       "array([[ 0., inf, inf, inf, inf, inf, inf, inf],\n",
       "       [inf,  0.,  1.,  2.,  2.,  4.,  5.,  5.],\n",
       "       [inf,  2.,  1.,  4.,  4.,  2.,  5.,  7.],\n",
       "       [inf,  2.,  2.,  2.,  2.,  4.,  3.,  3.],\n",
       "       [inf,  3.,  2.,  4.,  3.,  3.,  5.,  4.],\n",
       "       [inf,  6.,  4.,  6.,  6.,  4.,  7.,  7.]])"
      ]
     },
     "execution_count": 3,
     "metadata": {},
     "output_type": "execute_result"
    }
   ],
   "source": [
    "x = np.array([0, 2, 0, 1, 3])\n",
    "y = np.array([0, 1, -1, 0, 2, -1, 0])\n",
    "\n",
    "dtw(x, y)"
   ]
  },
  {
   "cell_type": "markdown",
   "id": "446c8e98-eaa7-4b6b-a353-05a2415f3d2a",
   "metadata": {},
   "source": [
    "### `fastdtw` is a python library used for implementing dynamic time warping algorithms."
   ]
  },
  {
   "cell_type": "code",
   "execution_count": 4,
   "id": "71b38303-d6e6-4569-9569-9901063b7856",
   "metadata": {},
   "outputs": [
    {
     "name": "stdout",
     "output_type": "stream",
     "text": [
      "Collecting fastdtw\n",
      "  Downloading fastdtw-0.3.4.tar.gz (133 kB)\n",
      "\u001b[K     |████████████████████████████████| 133 kB 396 kB/s eta 0:00:01\n",
      "\u001b[?25hRequirement already satisfied: numpy in /home/debonair/anaconda3/lib/python3.9/site-packages (from fastdtw) (1.21.5)\n",
      "Building wheels for collected packages: fastdtw\n",
      "  Building wheel for fastdtw (setup.py) ... \u001b[?25ldone\n",
      "\u001b[?25h  Created wheel for fastdtw: filename=fastdtw-0.3.4-cp39-cp39-linux_x86_64.whl size=106379 sha256=73b5ea84d0a55b95c4b08a1bd5ec03273a104d3f1b55b17d47b6626faf1fff03\n",
      "  Stored in directory: /home/debonair/.cache/pip/wheels/1f/a1/63/bfd0fddb5bf0b59f564872e29272cee8a2de0cd745d88fede5\n",
      "Successfully built fastdtw\n",
      "Installing collected packages: fastdtw\n",
      "Successfully installed fastdtw-0.3.4\n"
     ]
    }
   ],
   "source": [
    "!pip install fastdtw"
   ]
  },
  {
   "cell_type": "code",
   "execution_count": 5,
   "id": "90e97e14-c98f-41bf-81a2-cd97f8547f08",
   "metadata": {},
   "outputs": [],
   "source": [
    "from scipy.spatial.distance import euclidean\n",
    "from fastdtw import fastdtw"
   ]
  },
  {
   "cell_type": "code",
   "execution_count": 6,
   "id": "84d54df7-7608-4d5c-afe0-7fbbd051b0f8",
   "metadata": {},
   "outputs": [
    {
     "name": "stdout",
     "output_type": "stream",
     "text": [
      "8.485281374238571\n"
     ]
    }
   ],
   "source": [
    "X = np.array([[1, 1], [2, 2], [3, 3], [4, 4], [5, 5]])\n",
    "y = np.array([[2, 2], [3, 3], [4, 4]])\n",
    "\n",
    "distance, path = fastdtw(X, y, dist = euclidean)\n",
    "\n",
    "print(distance)"
   ]
  },
  {
   "cell_type": "code",
   "execution_count": 7,
   "id": "e34a7e3e-6637-4df4-b665-7b29fb550471",
   "metadata": {},
   "outputs": [
    {
     "name": "stdout",
     "output_type": "stream",
     "text": [
      "[(0, 0), (1, 0), (2, 0), (3, 0), (4, 1), (4, 2)]\n"
     ]
    }
   ],
   "source": [
    "print(path)"
   ]
  },
  {
   "cell_type": "code",
   "execution_count": null,
   "id": "bdd301b7-ae37-4d89-8f20-c3a0a70d1ff1",
   "metadata": {},
   "outputs": [],
   "source": []
  }
 ],
 "metadata": {
  "kernelspec": {
   "display_name": "Python 3 (ipykernel)",
   "language": "python",
   "name": "python3"
  },
  "language_info": {
   "codemirror_mode": {
    "name": "ipython",
    "version": 3
   },
   "file_extension": ".py",
   "mimetype": "text/x-python",
   "name": "python",
   "nbconvert_exporter": "python",
   "pygments_lexer": "ipython3",
   "version": "3.9.12"
  }
 },
 "nbformat": 4,
 "nbformat_minor": 5
}
